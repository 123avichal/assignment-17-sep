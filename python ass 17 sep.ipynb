{
 "cells": [
  {
   "cell_type": "markdown",
   "id": "f1f9b0b2-5ae8-44de-a7ba-4fbb87d25998",
   "metadata": {
    "jp-MarkdownHeadingCollapsed": true,
    "tags": []
   },
   "source": [
    "## For Loop :-"
   ]
  },
  {
   "cell_type": "markdown",
   "id": "c2d91a3b-1522-42ee-b813-7cb48c6018ca",
   "metadata": {},
   "source": [
    "1 Write a Python program to print numbers from 1 to 10 using a for loop."
   ]
  },
  {
   "cell_type": "code",
   "execution_count": 2,
   "id": "c807a317-5c10-42ac-812d-c03d087d5dfb",
   "metadata": {},
   "outputs": [
    {
     "name": "stdout",
     "output_type": "stream",
     "text": [
      "1\n",
      "2\n",
      "3\n",
      "4\n",
      "5\n",
      "6\n",
      "7\n",
      "8\n",
      "9\n",
      "10\n"
     ]
    }
   ],
   "source": [
    "for i in range(1,11):\n",
    "    print(i)"
   ]
  },
  {
   "cell_type": "markdown",
   "id": "310e9b9a-d854-46bd-8ef7-eee7b9b738ce",
   "metadata": {},
   "source": [
    "2 Explain the difference between a for loop and a while loop in Python."
   ]
  },
  {
   "cell_type": "markdown",
   "id": "71e9c2d8-c9b9-4b91-b42a-029079dbbcdd",
   "metadata": {},
   "source": [
    "For loop is used to iterate over a sequence of items.\n",
    "\n",
    "While loop is used to repeatedly execute a block of statements while a condition is true.\n",
    "\n",
    "For loops are designed for iterating over a sequence of items. Eg. list, tuple, etc.\n",
    "\n",
    "While loop is used when the number of iterations is not known in advance or when we want to repeat a block of code until a certain condition is met.\n",
    "\n",
    "For loop require a sequence to iterate over.\n",
    "\n",
    "While the loop requires an initial condition that is tested at the beginning of the loop.\n",
    "\n",
    "For loop is typically used for iterating over a fixed sequence of items\n",
    "\n",
    "While loop is used for more complex control flow situations.\n",
    "\n",
    "For loop is more efficient than a while loop when iterating over sequences, since the number of iterations is predetermined and the loop can be optimized accordingly.\n",
    "\n",
    "While a loop may be more efficient in certain situations where the condition being tested can be evaluated quickly."
   ]
  },
  {
   "cell_type": "markdown",
   "id": "ad664b33-071b-46bf-93ed-4d0c8288142b",
   "metadata": {},
   "source": [
    "3 Write a Python program to calculate the sum of all numbers from 1 to 100 using a for loop."
   ]
  },
  {
   "cell_type": "code",
   "execution_count": 42,
   "id": "499ba030-a6a5-4833-8f27-41cfdefcba01",
   "metadata": {},
   "outputs": [
    {
     "name": "stdin",
     "output_type": "stream",
     "text": [
      "enter the number 100\n"
     ]
    },
    {
     "name": "stdout",
     "output_type": "stream",
     "text": [
      "5050\n"
     ]
    }
   ],
   "source": [
    "num = int(input('enter the number'))\n",
    "sum = 0\n",
    "for i in range(1,num+1):\n",
    "    sum= sum+i\n",
    "print(sum)"
   ]
  },
  {
   "cell_type": "markdown",
   "id": "8f07073d-479b-420e-9e70-caaad9ae4a75",
   "metadata": {},
   "source": [
    "4 How do you iterate through a list using a for loop in Python?"
   ]
  },
  {
   "cell_type": "code",
   "execution_count": 44,
   "id": "c99ce5c6-ef8f-411d-922a-5d315da88e45",
   "metadata": {},
   "outputs": [
    {
     "data": {
      "text/plain": [
       "[1, 2, 3, 4, 5, 6]"
      ]
     },
     "execution_count": 44,
     "metadata": {},
     "output_type": "execute_result"
    }
   ],
   "source": [
    "l = [1,2,3,4,5,6]\n",
    "[i for i in l]"
   ]
  },
  {
   "cell_type": "markdown",
   "id": "9a7d40d8-2919-4a16-b156-b4e204c1fffb",
   "metadata": {},
   "source": [
    "5 Write a Python program to find the product of all elements in a list using a for loop."
   ]
  },
  {
   "cell_type": "code",
   "execution_count": 165,
   "id": "5f70d562-0d0e-4cc7-b9da-4ed548517caa",
   "metadata": {},
   "outputs": [
    {
     "name": "stdout",
     "output_type": "stream",
     "text": [
      "6000\n"
     ]
    }
   ],
   "source": [
    "def lstProduct(myLst):\n",
    " \n",
    "    result = 1\n",
    "    for x in myLst:\n",
    "        result = result * x\n",
    "    return result\n",
    " \n",
    "lst1 = [10, 20, 30]\n",
    "\n",
    "\n",
    "print(lstProduct(lst1))\n"
   ]
  },
  {
   "cell_type": "markdown",
   "id": "ea8428ea-7854-4786-8950-5f0b578d576d",
   "metadata": {},
   "source": [
    "6 Create a Python program that prints all even numbers from 1 to 20 using a for loop."
   ]
  },
  {
   "cell_type": "code",
   "execution_count": 167,
   "id": "01658d7b-ffbd-401f-b81e-50f8b5e81421",
   "metadata": {},
   "outputs": [
    {
     "name": "stdout",
     "output_type": "stream",
     "text": [
      "2\n",
      "4\n",
      "6\n",
      "8\n",
      "10\n",
      "12\n",
      "14\n",
      "16\n",
      "18\n"
     ]
    }
   ],
   "source": [
    "for i in  range(1,20):\n",
    "    if i%2==0:\n",
    "        print(i)"
   ]
  },
  {
   "cell_type": "markdown",
   "id": "296cbf79-3a25-4434-8154-1df275e41873",
   "metadata": {},
   "source": [
    "7 Write a Python program that calculates the factorial of a number using a for loop"
   ]
  },
  {
   "cell_type": "code",
   "execution_count": 185,
   "id": "c5e654b4-3b9a-4e85-82ce-be9652f04a03",
   "metadata": {},
   "outputs": [],
   "source": [
    "def facto(n):\n",
    "    a = 1\n",
    "    for i in range(1,n+1):\n",
    "        a = a*i\n",
    "    return a\n",
    "        "
   ]
  },
  {
   "cell_type": "code",
   "execution_count": 187,
   "id": "d4c7193c-6d7a-44cb-a72f-79aaa2c0af59",
   "metadata": {},
   "outputs": [
    {
     "data": {
      "text/plain": [
       "3628800"
      ]
     },
     "execution_count": 187,
     "metadata": {},
     "output_type": "execute_result"
    }
   ],
   "source": [
    "facto(10)"
   ]
  },
  {
   "cell_type": "markdown",
   "id": "7c86f444-ebbb-4972-ba59-0e0ac898c0f6",
   "metadata": {},
   "source": [
    "8 How can you iterate through the characters of a string using a for loop in Python?"
   ]
  },
  {
   "cell_type": "code",
   "execution_count": 191,
   "id": "ac5eb263-c96a-4f36-af7e-64195bdee9e3",
   "metadata": {},
   "outputs": [
    {
     "name": "stdout",
     "output_type": "stream",
     "text": [
      "A\n",
      "V\n",
      "i\n",
      "c\n",
      "h\n",
      "a\n",
      "l\n"
     ]
    }
   ],
   "source": [
    "for i in 'AVichal':\n",
    "    print(i)"
   ]
  },
  {
   "cell_type": "markdown",
   "id": "76598266-54a9-42e5-b9e0-396d2c991ad9",
   "metadata": {},
   "source": [
    "9 Write a Python program to find the largest number in a list using a for loop."
   ]
  },
  {
   "cell_type": "code",
   "execution_count": 197,
   "id": "12bfec10-5f32-4ff8-b6c1-f28db913b308",
   "metadata": {},
   "outputs": [],
   "source": [
    "l = [12,3,4,54,66,68]\n",
    "def max1():\n",
    "    for i in l:\n",
    "        return max(l)\n",
    "    "
   ]
  },
  {
   "cell_type": "code",
   "execution_count": 198,
   "id": "e23551c0-783b-4fee-b900-827258d5f4db",
   "metadata": {},
   "outputs": [
    {
     "data": {
      "text/plain": [
       "68"
      ]
     },
     "execution_count": 198,
     "metadata": {},
     "output_type": "execute_result"
    }
   ],
   "source": [
    "max1()"
   ]
  },
  {
   "cell_type": "markdown",
   "id": "94ee2b73-226c-401e-b850-caa716fe68c2",
   "metadata": {},
   "source": [
    "10 Create a Python program that prints the Fibonacci sequence up to a specified limit using a for loop."
   ]
  },
  {
   "cell_type": "code",
   "execution_count": 223,
   "id": "a3994201-7467-4ad6-801c-b42d9f0858c0",
   "metadata": {},
   "outputs": [],
   "source": [
    "def fib(n):\n",
    "    a,b=0,1\n",
    "    for i in range(n):\n",
    "        a,b=b,a+b\n",
    "        yield a\n",
    "\n",
    "    return a"
   ]
  },
  {
   "cell_type": "code",
   "execution_count": 224,
   "id": "940d5562-1f57-46d7-a2e2-201d8f39d1e8",
   "metadata": {},
   "outputs": [
    {
     "name": "stdout",
     "output_type": "stream",
     "text": [
      "1\n",
      "1\n",
      "2\n",
      "3\n",
      "5\n",
      "8\n",
      "13\n",
      "21\n",
      "34\n",
      "55\n"
     ]
    }
   ],
   "source": [
    "for i in fib(10):\n",
    "    print(i)"
   ]
  },
  {
   "cell_type": "markdown",
   "id": "762e3a30-c2b7-454f-859d-d6de3e29f541",
   "metadata": {},
   "source": [
    "11 Write a Python program to count the number of vowels in a given string using a for loop."
   ]
  },
  {
   "cell_type": "code",
   "execution_count": 229,
   "id": "965964a9-606f-4313-b13e-63856272ae92",
   "metadata": {},
   "outputs": [
    {
     "name": "stdout",
     "output_type": "stream",
     "text": [
      "7\n"
     ]
    }
   ],
   "source": [
    "count = 0\n",
    "s = 'AVICHAL'\n",
    "for i in s:\n",
    "    count= count+1\n",
    "print(count)"
   ]
  },
  {
   "cell_type": "markdown",
   "id": "0bc75ffd-e363-405b-a438-f69f37dfbfca",
   "metadata": {},
   "source": [
    "12 Create a Python program that generates a multiplication table for a given number using a for loop"
   ]
  },
  {
   "cell_type": "code",
   "execution_count": 241,
   "id": "20b34182-e06d-4389-94f2-13de5fe0b0c5",
   "metadata": {},
   "outputs": [
    {
     "name": "stdout",
     "output_type": "stream",
     "text": [
      "2\n",
      "4\n",
      "6\n",
      "8\n",
      "10\n",
      "12\n",
      "14\n",
      "16\n",
      "18\n",
      "20\n"
     ]
    }
   ],
   "source": [
    "for i in range(2,3):\n",
    "    for j in range(1,11):\n",
    "        print(i*j)"
   ]
  },
  {
   "cell_type": "markdown",
   "id": "49b6a232-7620-41c9-aa8a-60525e367916",
   "metadata": {},
   "source": [
    "13 Write a Python program to reverse a list using a for loop."
   ]
  },
  {
   "cell_type": "code",
   "execution_count": 243,
   "id": "cb6d46fa-d53a-421d-8d3b-e267a70aa3f7",
   "metadata": {},
   "outputs": [
    {
     "name": "stdout",
     "output_type": "stream",
     "text": [
      "6\n",
      "5\n",
      "4\n",
      "3\n",
      "2\n",
      "1\n"
     ]
    }
   ],
   "source": [
    "l = [1,2,3,4,5,6]\n",
    "for i in l[::-1]:\n",
    "    print(i)"
   ]
  },
  {
   "cell_type": "markdown",
   "id": "5ccdd130-681c-48d8-9f13-c0ff558724ef",
   "metadata": {},
   "source": [
    "14 Write a Python program to find the common elements between two lists using a for loop"
   ]
  },
  {
   "cell_type": "code",
   "execution_count": 270,
   "id": "70eed8e6-cee7-472d-9cc1-32371a2513cc",
   "metadata": {},
   "outputs": [],
   "source": [
    "def common(l,l2):\n",
    "    l =[1,2,3,4,5,65]\n",
    "    l2 = [2121,1,1,2,3,4]\n",
    "    l3=[]\n",
    "    for i in l:\n",
    "        if i in l2:\n",
    "            l3.append(i)\n",
    "    return(l3)"
   ]
  },
  {
   "cell_type": "code",
   "execution_count": 271,
   "id": "1735ce87-d8b4-4ae7-9f9f-2d0a12bb9e97",
   "metadata": {},
   "outputs": [
    {
     "data": {
      "text/plain": [
       "[1, 2, 3, 4]"
      ]
     },
     "execution_count": 271,
     "metadata": {},
     "output_type": "execute_result"
    }
   ],
   "source": [
    "common(l,l1)"
   ]
  },
  {
   "cell_type": "markdown",
   "id": "278eae64-8146-47e9-885a-52bad6b5ed41",
   "metadata": {},
   "source": [
    "15 Explain how to use a for loop to iterate through the keys and values of a dictionary in Python."
   ]
  },
  {
   "cell_type": "code",
   "execution_count": 272,
   "id": "8a7ca857-1b6d-4e89-b400-d000dcee1dc6",
   "metadata": {},
   "outputs": [],
   "source": [
    "d = {'name': 'avichal','course': ['DATA SCIENCE MASTERS','PRO DATA SCIENCE']}"
   ]
  },
  {
   "cell_type": "code",
   "execution_count": 277,
   "id": "33399d86-dfe8-4d35-b65d-f19446e328c2",
   "metadata": {},
   "outputs": [
    {
     "name": "stdout",
     "output_type": "stream",
     "text": [
      "avichal\n",
      "['DATA SCIENCE MASTERS', 'PRO DATA SCIENCE']\n"
     ]
    }
   ],
   "source": [
    "for i in d.values() or d.keys():\n",
    "    print(i)"
   ]
  },
  {
   "cell_type": "code",
   "execution_count": 279,
   "id": "e5fd03e0-25ab-4749-9c48-3f24d8fa7256",
   "metadata": {},
   "outputs": [
    {
     "name": "stdout",
     "output_type": "stream",
     "text": [
      "name\n",
      "course\n"
     ]
    }
   ],
   "source": [
    "for i in d.keys():\n",
    "    print(i)"
   ]
  },
  {
   "cell_type": "markdown",
   "id": "ff926ce5-422d-4471-8586-1179591e8c67",
   "metadata": {},
   "source": [
    "16 Write a Python program to find the GCD (Greatest Common Divisor) of two numbers using a for loop."
   ]
  },
  {
   "cell_type": "code",
   "execution_count": 286,
   "id": "8f4555c6-de3b-42c2-a228-0a990e89db0b",
   "metadata": {},
   "outputs": [
    {
     "name": "stdout",
     "output_type": "stream",
     "text": [
      "4\n"
     ]
    }
   ],
   "source": [
    "a =2,3,4\n",
    "import math\n",
    "for i in a:\n",
    "    gcd=math.gcd(i)\n",
    "print(gcd)\n",
    "    "
   ]
  },
  {
   "cell_type": "markdown",
   "id": "4c9e030c-55c7-4f15-b010-34bb8c8ef303",
   "metadata": {},
   "source": [
    "17 Create a Python program that checks if a string is a palindrome using a for loop."
   ]
  },
  {
   "cell_type": "code",
   "execution_count": 344,
   "id": "867d45c6-f69b-4f98-aaa4-d8fccd053445",
   "metadata": {},
   "outputs": [
    {
     "name": "stdin",
     "output_type": "stream",
     "text": [
      "enter string mom\n"
     ]
    },
    {
     "name": "stdout",
     "output_type": "stream",
     "text": [
      "m\n",
      "m\n",
      "m\n",
      "string is palindrome\n"
     ]
    }
   ],
   "source": [
    "string = input('enter string')\n",
    "revs = \"\"\n",
    "for i in string:\n",
    "    revs = i+revs\n",
    "    print(rev)\n",
    "if string==revs:\n",
    "    print('string is palindrome')\n",
    "else:\n",
    "    print('string is not palindrome')"
   ]
  },
  {
   "cell_type": "markdown",
   "id": "94640c94-59aa-435a-9feb-359f1b21c13e",
   "metadata": {},
   "source": [
    "18 Write a Python program to remove duplicates from a list using a for loop."
   ]
  },
  {
   "cell_type": "code",
   "execution_count": 370,
   "id": "11b639fb-4caf-4f4b-a542-dff3da2a497a",
   "metadata": {},
   "outputs": [
    {
     "name": "stdout",
     "output_type": "stream",
     "text": [
      "List After removing duplicates  [12, 121, 2, 13, 123, 31, 1, 231]\n"
     ]
    }
   ],
   "source": [
    "l = [12,121,2,13,123,12,31,2,12,1,2,12,1,231,2,12,12]\n",
    "l1=[]\n",
    "for i in l:\n",
    "    if i not in l1:\n",
    "        l1.append(i)\n",
    "\n",
    "print(\"List After removing duplicates \", l1)\n",
    "\n",
    "        \n"
   ]
  },
  {
   "cell_type": "markdown",
   "id": "b5aa3c5e-2147-4dd2-9e4e-f8b252a5e67a",
   "metadata": {},
   "source": [
    "19 Create a Python program that counts the number of words in a sentence using a for loop."
   ]
  },
  {
   "cell_type": "code",
   "execution_count": 374,
   "id": "9f206ee2-4ae7-4158-ad9a-6a5f55685938",
   "metadata": {},
   "outputs": [
    {
     "name": "stdout",
     "output_type": "stream",
     "text": [
      "18\n"
     ]
    }
   ],
   "source": [
    "count = 0\n",
    "s = 'my name is avichal'\n",
    "for i in s:\n",
    "    count = count+1\n",
    "print(count)"
   ]
  },
  {
   "cell_type": "markdown",
   "id": "40a0f1ba-ee2a-4db9-a124-e60b8369873f",
   "metadata": {},
   "source": [
    "20 Write a Python program to find the sum of all odd numbers from 1 to 50 using a for loop."
   ]
  },
  {
   "cell_type": "code",
   "execution_count": 402,
   "id": "14e45611-acb3-4a14-8894-b78f4cb20512",
   "metadata": {},
   "outputs": [
    {
     "name": "stdin",
     "output_type": "stream",
     "text": [
      "enter the number 50\n"
     ]
    },
    {
     "name": "stdout",
     "output_type": "stream",
     "text": [
      "625\n"
     ]
    }
   ],
   "source": [
    "num = int(input('enter the number'))\n",
    "num1= 0\n",
    "for i in range(1,num+1):\n",
    "    if i%2!=0:\n",
    "        num1+=i\n",
    "print(num1)\n",
    "    "
   ]
  },
  {
   "cell_type": "markdown",
   "id": "8a62a07d-b8b7-4397-a83f-d69e79588aed",
   "metadata": {},
   "source": [
    "21 Write a Python program that checks if a given year is a leap year using a for loop."
   ]
  },
  {
   "cell_type": "code",
   "execution_count": 410,
   "id": "78b71f4a-573f-4c56-b925-7bff7c950d6e",
   "metadata": {},
   "outputs": [
    {
     "name": "stdin",
     "output_type": "stream",
     "text": [
      "Please enter the year you would like to start checking leap years from:  2018\n",
      "Please enter over how many years you would like to check:  2022\n"
     ]
    },
    {
     "name": "stdout",
     "output_type": "stream",
     "text": [
      "2018 is not a leap year\n",
      "2019 is not a leap year\n",
      "2020 is a leap year\n"
     ]
    }
   ],
   "source": [
    "start_year = int(input(\"Please enter the year you would like to start checking leap years from: \"))\n",
    "total_years = int(input(\"Please enter over how many years you would like to check: \")) \n",
    "\n",
    "for year in range(start_year, start_year + total_years):\n",
    "\n",
    "        if year % 4 == 0:       \n",
    "                print(f\"{year} is a leap year\")\n",
    "                break\n",
    "        else:\n",
    "                print (f\"{year} is not a leap year\")\n",
    "                break"
   ]
  },
  {
   "cell_type": "markdown",
   "id": "2a06a142-b286-46f8-93b2-484426695033",
   "metadata": {},
   "source": [
    "22 Create a Python program that calculates the square root of a number using a for loop."
   ]
  },
  {
   "cell_type": "code",
   "execution_count": 420,
   "id": "5aaf1d89-8b16-4e69-950c-704224dafd0c",
   "metadata": {},
   "outputs": [],
   "source": [
    "import math "
   ]
  },
  {
   "cell_type": "code",
   "execution_count": 418,
   "id": "ba7c22e9-0128-4d58-8839-fca99cd6d73d",
   "metadata": {},
   "outputs": [
    {
     "name": "stdout",
     "output_type": "stream",
     "text": [
      "the square root 0.0\n",
      "the square root 1.0\n",
      "the square root 1.4142135623730951\n",
      "the square root 1.7320508075688772\n",
      "the square root 2.0\n"
     ]
    }
   ],
   "source": [
    "for i in range(5):\n",
    "    print('the square root',math.sqrt(i))"
   ]
  },
  {
   "cell_type": "markdown",
   "id": "010a3dd7-ab4e-4cd2-993c-a7804eeeeb3e",
   "metadata": {},
   "source": [
    "23 Write a Python program to find the LCM (Least Common Multiple) of two numbers using a for loop"
   ]
  },
  {
   "cell_type": "code",
   "execution_count": 433,
   "id": "ecd93f67-74cd-412f-9912-58acbb777eff",
   "metadata": {},
   "outputs": [
    {
     "name": "stdout",
     "output_type": "stream",
     "text": [
      "10\n"
     ]
    }
   ],
   "source": [
    "import math\n",
    "\n",
    "num = 10\n",
    "for i in range(1,num+1):\n",
    "    lcm=math.lcm(i)\n",
    "print(lcm)\n",
    "        "
   ]
  },
  {
   "cell_type": "markdown",
   "id": "415d2f6c-0082-4061-aa16-8e6e5d48e32d",
   "metadata": {
    "jp-MarkdownHeadingCollapsed": true,
    "tags": []
   },
   "source": [
    "## If else :"
   ]
  },
  {
   "cell_type": "markdown",
   "id": "1ef23296-4e55-4da0-bc0c-dd5af8f3653d",
   "metadata": {},
   "source": [
    "1 Write a Python program to check if a number is positive, negative, or zero using an if-else statement"
   ]
  },
  {
   "cell_type": "code",
   "execution_count": 5,
   "id": "a1157c59-cead-4c41-8e94-e13e641e1c45",
   "metadata": {},
   "outputs": [
    {
     "name": "stdin",
     "output_type": "stream",
     "text": [
      "enter the number 89\n"
     ]
    },
    {
     "name": "stdout",
     "output_type": "stream",
     "text": [
      "positive\n"
     ]
    }
   ],
   "source": [
    "num = int(input('enter the number'))\n",
    "if num<0:\n",
    "    print('negative')\n",
    "elif num>0:\n",
    "    print('positive')\n",
    "else:\n",
    "    num==0\n",
    "    print('zero')"
   ]
  },
  {
   "cell_type": "markdown",
   "id": "3054deea-c5a4-42dc-871d-c32a717ff55f",
   "metadata": {},
   "source": [
    "2 Create a Python program that checks if a given number is even or odd using an if-else statement."
   ]
  },
  {
   "cell_type": "code",
   "execution_count": 9,
   "id": "3a3e7360-fe94-45b4-82cc-78878467b3fa",
   "metadata": {},
   "outputs": [
    {
     "name": "stdin",
     "output_type": "stream",
     "text": [
      "enter the number 73\n"
     ]
    },
    {
     "name": "stdout",
     "output_type": "stream",
     "text": [
      "number is odd\n"
     ]
    }
   ],
   "source": [
    "num = int(input('enter the number'))\n",
    "if num%2==0:\n",
    "    print('number is even')\n",
    "else:\n",
    "    num%2!=0\n",
    "    print('number is odd')"
   ]
  },
  {
   "cell_type": "markdown",
   "id": "67eaa35d-0da4-402d-9e52-99f81702f29a",
   "metadata": {},
   "source": [
    "4 Write a Python program to determine the largest of three numbers using if-else."
   ]
  },
  {
   "cell_type": "code",
   "execution_count": 12,
   "id": "138694a9-2079-40c1-8cad-f75b6dd1ce4d",
   "metadata": {},
   "outputs": [
    {
     "name": "stdin",
     "output_type": "stream",
     "text": [
      "enter the first number 4\n",
      "enter the second number 5\n",
      "enter the third number 32\n"
     ]
    },
    {
     "name": "stdout",
     "output_type": "stream",
     "text": [
      "the largest num is 32\n"
     ]
    }
   ],
   "source": [
    "a = int(input('enter the first number'))\n",
    "b = int(input('enter the second number'))\n",
    "c=  int(input('enter the third number'))\n",
    "if a>b:\n",
    "    largest = a\n",
    "    print('the largest num is ',largest)\n",
    "elif b>c:\n",
    "    larget = b\n",
    "    print('the largest num is',largest)\n",
    "else:\n",
    "    c>a\n",
    "    largest = c\n",
    "    print('the largest num is',largest)"
   ]
  },
  {
   "cell_type": "markdown",
   "id": "bb31e176-3573-49c7-b41c-ca8a9bc37d4b",
   "metadata": {},
   "source": [
    "5 Write a Python program that calculates the absolute value of a number "
   ]
  },
  {
   "cell_type": "code",
   "execution_count": 14,
   "id": "0e764712-a0cb-43dd-ba86-74e35f121544",
   "metadata": {},
   "outputs": [
    {
     "data": {
      "text/plain": [
       "34"
      ]
     },
     "execution_count": 14,
     "metadata": {},
     "output_type": "execute_result"
    }
   ],
   "source": [
    "abs(-34)"
   ]
  },
  {
   "cell_type": "markdown",
   "id": "e5af5eb0-16b6-479e-9414-5550817642f7",
   "metadata": {},
   "source": [
    "6 Create a Python program that checks if a given character is a vowel or consonant using if-else."
   ]
  },
  {
   "cell_type": "code",
   "execution_count": 26,
   "id": "51a0933d-1a70-419c-a74f-fd740f628df2",
   "metadata": {},
   "outputs": [
    {
     "name": "stdin",
     "output_type": "stream",
     "text": [
      "enter the string avichal\n"
     ]
    },
    {
     "name": "stdout",
     "output_type": "stream",
     "text": [
      "vowels is present\n"
     ]
    }
   ],
   "source": [
    "string=input('enter the string')\n",
    "if 'a' or 'e' or 'i' or 'o' or 'u' in sting:\n",
    "    print('vowels is present')\n",
    "else:\n",
    "    print('consonent')"
   ]
  },
  {
   "cell_type": "markdown",
   "id": "2f3d05d7-e9c3-4240-95fc-ba48fae9df06",
   "metadata": {},
   "source": [
    "7 Write a Python program to determine if a user is eligible to vote based on their age using if-else."
   ]
  },
  {
   "cell_type": "code",
   "execution_count": 29,
   "id": "3b69dfbc-9156-476c-b2ea-04930539824e",
   "metadata": {},
   "outputs": [
    {
     "name": "stdin",
     "output_type": "stream",
     "text": [
      "enter the age 11\n"
     ]
    },
    {
     "name": "stdout",
     "output_type": "stream",
     "text": [
      "not eligible to vote\n"
     ]
    }
   ],
   "source": [
    "age = int(input('enter the age'))\n",
    "if age>=18:\n",
    "    print('eligible to vote')\n",
    "else:\n",
    "    print('not eligible to vote')"
   ]
  },
  {
   "cell_type": "markdown",
   "id": "4e0c8d07-8026-4de7-81e2-ea8be4af2bb7",
   "metadata": {},
   "source": [
    "8 Create a Python program that calculates the discount amount based on the purchase amount using if-else."
   ]
  },
  {
   "cell_type": "code",
   "execution_count": 32,
   "id": "49dedb44-a876-4077-b264-2f5f54eb2915",
   "metadata": {},
   "outputs": [
    {
     "name": "stdin",
     "output_type": "stream",
     "text": [
      "Enter Sale Amount:  7000\n"
     ]
    },
    {
     "name": "stdout",
     "output_type": "stream",
     "text": [
      "Discount :  840.0\n",
      "Net Pay  :  6160.0\n"
     ]
    }
   ],
   "source": [
    "amt = int(input(\"Enter Sale Amount: \"))\n",
    "if(amt>0):\n",
    "    if amt<=5000:\n",
    "        disc = amt*0.05\n",
    "    elif amt<=15000:\n",
    "        disc=amt*0.12\n",
    "    elif amt<=25000:\n",
    "        disc=0.2 * amt\n",
    "    else:\n",
    "         disc=0.3 * amt\n",
    "\n",
    "    print(\"Discount : \",disc)\n",
    "    print(\"Net Pay  : \",amt-disc)\n",
    "else:\n",
    "    print(\"Invalid Amount\")"
   ]
  },
  {
   "cell_type": "markdown",
   "id": "dca889c7-5c1a-412a-b955-5b48f09f9b0f",
   "metadata": {},
   "source": [
    "9 Write a Python program to check if a number is within a specified range using if-else."
   ]
  },
  {
   "cell_type": "code",
   "execution_count": 40,
   "id": "2b98def0-1508-4e79-b7bb-f36f06db0e76",
   "metadata": {},
   "outputs": [
    {
     "name": "stdin",
     "output_type": "stream",
     "text": [
      "enter the number 14\n"
     ]
    },
    {
     "name": "stdout",
     "output_type": "stream",
     "text": [
      "number within range\n"
     ]
    }
   ],
   "source": [
    "num = int(input('enter the number'))\n",
    "if num in range(1,16):\n",
    "    print('number within range')\n",
    "else:\n",
    "    print('number is not within range')"
   ]
  },
  {
   "cell_type": "markdown",
   "id": "3f9c3ce8-3e40-4c16-b97c-f6fd21337593",
   "metadata": {},
   "source": [
    "10 Create a Python program that determines the grade of a student based on their score using if-else."
   ]
  },
  {
   "cell_type": "code",
   "execution_count": 56,
   "id": "26e05e7c-8daf-4aed-b118-9030000f7913",
   "metadata": {},
   "outputs": [
    {
     "name": "stdin",
     "output_type": "stream",
     "text": [
      "enter the score 8\n"
     ]
    },
    {
     "name": "stdout",
     "output_type": "stream",
     "text": [
      "student get C grade \n"
     ]
    }
   ],
   "source": [
    "score = int(input('enter the score'))\n",
    "if score<=40:\n",
    "    print('student get C grade ')\n",
    "elif score>=60:\n",
    "    print('student get B grade')\n",
    "elif score>=80:\n",
    "    print('student get B+ grade')\n",
    "else:\n",
    "    score>=100\n",
    "    print('student get A grade')"
   ]
  },
  {
   "cell_type": "markdown",
   "id": "d01d5f40-3628-4788-9d34-b61df2428eb4",
   "metadata": {},
   "source": [
    "11 Write a Python program to check if a string is empty or not using if-else"
   ]
  },
  {
   "cell_type": "code",
   "execution_count": 58,
   "id": "886ea10b-b783-4a56-95e9-dd8c9a52bcd3",
   "metadata": {},
   "outputs": [
    {
     "name": "stdin",
     "output_type": "stream",
     "text": [
      "enter the string \n"
     ]
    },
    {
     "name": "stdout",
     "output_type": "stream",
     "text": [
      "string is empty\n"
     ]
    }
   ],
   "source": [
    "string = input('enter the string')\n",
    "if len(string)==0:\n",
    "    print('string is empty')\n",
    "else:\n",
    "    print('string is not empty')"
   ]
  },
  {
   "cell_type": "markdown",
   "id": "8524de45-c9f7-4983-860e-5d7fb594ddf9",
   "metadata": {},
   "source": [
    "12 Create a Python program that identifies the type of a triangle (e.g., equilateral, isosceles, or scalene) based on input values using if-else."
   ]
  },
  {
   "cell_type": "code",
   "execution_count": 60,
   "id": "bcbb9e6b-3b87-428a-b5e0-c32800cd2fdb",
   "metadata": {},
   "outputs": [
    {
     "name": "stdin",
     "output_type": "stream",
     "text": [
      "enter the side a 4\n",
      "enter the side b 4\n",
      "enter the side c 4\n"
     ]
    },
    {
     "name": "stdout",
     "output_type": "stream",
     "text": [
      "equlateral triangle\n"
     ]
    }
   ],
   "source": [
    "side_a= int(input('enter the side a'))\n",
    "side_b= int(input('enter the side b'))\n",
    "side_c= int(input('enter the side c'))\n",
    "if side_a==side_b==side_c:\n",
    "    print('equlateral triangle')\n",
    "elif side_a==side_b or side_b==side_c or side_a==side_c:\n",
    "    print('isosceles triangle')\n",
    "else:\n",
    "    print('scalene')"
   ]
  },
  {
   "cell_type": "markdown",
   "id": "03183fd2-2a58-48af-8353-3b003ad5512d",
   "metadata": {},
   "source": [
    "13 Write a Python program to determine the day of the week based on a user-provided number using if-else"
   ]
  },
  {
   "cell_type": "code",
   "execution_count": 65,
   "id": "8bca44f8-f348-4cb2-baea-1a483c36355b",
   "metadata": {},
   "outputs": [
    {
     "name": "stdin",
     "output_type": "stream",
     "text": [
      "enter a days SUNDAY\n"
     ]
    },
    {
     "name": "stdout",
     "output_type": "stream",
     "text": [
      "7\n"
     ]
    }
   ],
   "source": [
    "day = input('enter a days')\n",
    "if day=='MONDAY':\n",
    "    print(1)\n",
    "elif day=='TUESDAY':\n",
    "    print(2)\n",
    "elif day=='WEDNESDAY':\n",
    "    print(3)\n",
    "elif day=='THURSDAY':\n",
    "    print(4)\n",
    "elif day==\"FRIDAY\":\n",
    "    print(5)\n",
    "elif day=='SATURDAY':\n",
    "    print(6)\n",
    "else:\n",
    "    day=='SUNDAY'\n",
    "    print(7)"
   ]
  },
  {
   "cell_type": "markdown",
   "id": "2b960400-0a14-4524-a0a0-9b886eda6801",
   "metadata": {},
   "source": [
    "14 Create a Python program that checks if a given year is a leap year using both if-else and a function.\n"
   ]
  },
  {
   "cell_type": "code",
   "execution_count": 66,
   "id": "6c42606b-48bc-44cc-a28b-202c6cf7776b",
   "metadata": {},
   "outputs": [
    {
     "name": "stdin",
     "output_type": "stream",
     "text": [
      "enter the year 2016\n"
     ]
    },
    {
     "name": "stdout",
     "output_type": "stream",
     "text": [
      "year is leap year\n"
     ]
    }
   ],
   "source": [
    "year = int(input('enter the year'))\n",
    "if year%4==0:\n",
    "    print('year is leap year')\n",
    "else:\n",
    "    print('year is not leap year')"
   ]
  },
  {
   "cell_type": "markdown",
   "id": "e7ae304c-1515-42cd-a890-bdf2f939ed25",
   "metadata": {},
   "source": [
    "15 How do you use the \"assert\" statement in Python to add debugging checks within if-else blocks?"
   ]
  },
  {
   "cell_type": "markdown",
   "id": "acbe19f6-27e6-4183-996f-03d592c1e908",
   "metadata": {},
   "source": [
    "In Python, the assert keyword helps in achieving this task. This statement takes as input a boolean condition, which when returns true doesn't do anything and continues the normal flow of execution, but if it is computed to be false, then it raises an AssertionError along with the optional message provided"
   ]
  },
  {
   "cell_type": "markdown",
   "id": "b574e46f-4e01-447c-906d-27c9193b4a05",
   "metadata": {},
   "source": [
    "16 Create a Python program that determines the eligibility of a person for a senior citizen discount based on age using if-else"
   ]
  },
  {
   "cell_type": "code",
   "execution_count": 68,
   "id": "db58a7db-c3ea-41fb-9e38-e64a4d9853ef",
   "metadata": {},
   "outputs": [
    {
     "name": "stdin",
     "output_type": "stream",
     "text": [
      "enter the age 78\n"
     ]
    },
    {
     "name": "stdout",
     "output_type": "stream",
     "text": [
      "age 78\n",
      "dicount 19.5\n",
      "pay -58.5\n"
     ]
    }
   ],
   "source": [
    "age = int(input('enter the age'))\n",
    "if age>60:\n",
    "    disc=age*0.25\n",
    "elif age>60 and age<80:\n",
    "    disc= age*0.40\n",
    "else:\n",
    "    age>90 and age<100\n",
    "    disc=age*0.50\n",
    "print('age',age)\n",
    "print('dicount',disc)\n",
    "print('pay',disc-age)"
   ]
  },
  {
   "cell_type": "markdown",
   "id": "b4e66d79-6b9d-4815-995e-25ef00dbead9",
   "metadata": {},
   "source": [
    "17 Write a Python program to categorize a given character as uppercase, lowercase, or neither using if-else"
   ]
  },
  {
   "cell_type": "code",
   "execution_count": 81,
   "id": "c933a0b2-8552-45f1-82c9-8ece42b0c780",
   "metadata": {},
   "outputs": [
    {
     "name": "stdout",
     "output_type": "stream",
     "text": [
      "string in upper case\n"
     ]
    }
   ],
   "source": [
    "string ='AVICHAL'\n",
    "if string.isupper:\n",
    "    print('string in upper case')\n",
    "elif string.islower:\n",
    "    print('string in lower case')\n",
    "else:\n",
    "    print('string is neither upper and lower')"
   ]
  },
  {
   "cell_type": "markdown",
   "id": "a9b5ad59-1da3-4577-8146-85e3193e872c",
   "metadata": {},
   "source": [
    "18  Write a Python program to determine the roots of a quadratic equation using if-else."
   ]
  },
  {
   "cell_type": "code",
   "execution_count": 84,
   "id": "cb63a8d6-d96b-462e-ac2a-0346f31c349c",
   "metadata": {},
   "outputs": [
    {
     "name": "stdout",
     "output_type": "stream",
     "text": [
      "The roots are\n",
      "(-3.414213562373095+0j)\n",
      "(-0.5857864376269049+0j)\n"
     ]
    }
   ],
   "source": [
    "import math\n",
    " \n",
    "a = 1\n",
    "b = 4\n",
    "c = 2\n",
    "dis = (b**2) - (4 * a*c) \n",
    "ans1 = (-b-cmath.sqrt(dis))/(2 * a)\n",
    "ans2 = (-b + cmath.sqrt(dis))/(2 * a)\n",
    "print('The roots are')\n",
    "print(ans1)\n",
    "print(ans2)"
   ]
  },
  {
   "cell_type": "markdown",
   "id": "a9beddfe-5bcf-4980-b55b-f1fd66722542",
   "metadata": {},
   "source": [
    "19 Create a Python program that checks if a given year is a century year or not using if-else"
   ]
  },
  {
   "cell_type": "code",
   "execution_count": 90,
   "id": "ae4d1dfc-2a6c-4eb3-a2bb-54aec2fa241c",
   "metadata": {},
   "outputs": [
    {
     "name": "stdin",
     "output_type": "stream",
     "text": [
      "enter the year 2000\n"
     ]
    },
    {
     "name": "stdout",
     "output_type": "stream",
     "text": [
      "given year is century year\n"
     ]
    }
   ],
   "source": [
    "year = int(input('enter the year'))\n",
    "if year%400==0:\n",
    "    print('given year is century year')\n",
    "else:\n",
    "    print('year is not century year')"
   ]
  },
  {
   "cell_type": "markdown",
   "id": "2bfda64d-d54f-4faf-a0b0-b8642bd1ffcb",
   "metadata": {},
   "source": [
    "20 Write a Python program to determine if a given number is a perfect square using if-else."
   ]
  },
  {
   "cell_type": "code",
   "execution_count": 1,
   "id": "5c4127c9-0441-4e84-909a-55ae8e854a53",
   "metadata": {},
   "outputs": [
    {
     "name": "stdin",
     "output_type": "stream",
     "text": [
      "enter the 1 number 9\n",
      "enter the 2 number 0\n"
     ]
    },
    {
     "name": "stdout",
     "output_type": "stream",
     "text": [
      "not perfect square\n"
     ]
    }
   ],
   "source": [
    "a= int(input('enter the 1 number'))\n",
    "b = int(input('enter the 2 number'))\n",
    "if (a+b)**(a+b)==a**2+2*a*b+b**2:\n",
    "    print('number is perfect square')\n",
    "else:\n",
    "    print('not perfect square')"
   ]
  },
  {
   "cell_type": "markdown",
   "id": "709462d8-c362-4920-9d8d-df60517fef25",
   "metadata": {},
   "source": [
    "21 Explain the purpose of the \"continue\" and \"break\" statements within if-else loops."
   ]
  },
  {
   "cell_type": "markdown",
   "id": "27029a6c-a7a0-44f4-b50e-12d24d9f6fd1",
   "metadata": {},
   "source": [
    "The break and continue statements in Python are used to skip parts of the current loop or break out of the loop completely. The break statement can be used if you need to break out of a for or while loop and move onto the next section of code"
   ]
  },
  {
   "cell_type": "markdown",
   "id": "71e147a5-35bd-4cfa-81d3-e7a8aca676a8",
   "metadata": {},
   "source": [
    "22 How can you use the \"filter()\" function with if-else statements to filter elements from a list?"
   ]
  },
  {
   "cell_type": "markdown",
   "id": "7762117e-c5d4-4d47-867d-50105cc698ab",
   "metadata": {},
   "source": [
    "Using filter() Method\n",
    "The `filter()` is a built-in Python function to filter list items. It requires a filter function and list `filter(fn, list)`. In our case, we will create a filter_height function. It returns True when height is less than 150 else False"
   ]
  },
  {
   "cell_type": "markdown",
   "id": "0553df97-3e29-45b9-8c02-fcd7f4927161",
   "metadata": {},
   "source": [
    "24 Write a Python program to determine if a given number is prime or not using if-else."
   ]
  },
  {
   "cell_type": "code",
   "execution_count": 4,
   "id": "2daf4868-c46c-4cbe-8bc0-ba9dbe1eec9e",
   "metadata": {},
   "outputs": [
    {
     "name": "stdin",
     "output_type": "stream",
     "text": [
      "enter the number 13\n"
     ]
    },
    {
     "name": "stdout",
     "output_type": "stream",
     "text": [
      "prime number\n"
     ]
    }
   ],
   "source": [
    "number = int(input('enter the number'))\n",
    "if number%number==0 and number%1==0:\n",
    "    print('prime number')\n",
    "else:\n",
    "    print('not prime')"
   ]
  },
  {
   "cell_type": "markdown",
   "id": "00290ab1-fd01-4025-b70c-9e82cee57f83",
   "metadata": {
    "jp-MarkdownHeadingCollapsed": true,
    "tags": []
   },
   "source": [
    "## Map :-"
   ]
  },
  {
   "cell_type": "markdown",
   "id": "cf01fdc3-a81a-4e46-8e92-57aaa2c9dc63",
   "metadata": {},
   "source": [
    "1 Explain the purpose of the `map()` function in Python and provide an example of how it can be used to apply a function to each element of an iterable"
   ]
  },
  {
   "cell_type": "markdown",
   "id": "37480e81-e2d2-466f-a599-2946a23d39a9",
   "metadata": {},
   "source": [
    "Map in Python is a function that works as an iterator to return a result after applying a function to every item of an iterable (tuple, lists, etc.). It is used when you want to apply a single transformation function to all the iterable elements. The iterable and function are passed as arguments to the map in Python"
   ]
  },
  {
   "cell_type": "markdown",
   "id": "dcbeb5c4-ea87-4eba-859c-895fa4ccbdf0",
   "metadata": {},
   "source": [
    "2 Write a Python program that uses the ` map()` function to square each element of a list of numbers."
   ]
  },
  {
   "cell_type": "code",
   "execution_count": 1,
   "id": "9c4a0890-633c-4706-87e7-748e4b2019cc",
   "metadata": {},
   "outputs": [
    {
     "data": {
      "text/plain": [
       "[1, 4, 9, 16, 9]"
      ]
     },
     "execution_count": 1,
     "metadata": {},
     "output_type": "execute_result"
    }
   ],
   "source": [
    "l = [1,2,3,4,3]\n",
    "list(map(lambda x : x**2,l))"
   ]
  },
  {
   "cell_type": "markdown",
   "id": "82444033-fd35-4530-975c-63965a8374fe",
   "metadata": {},
   "source": [
    "3 How does the `map()` function differ from a list comprehension in Python, and when would you choose one over the other?"
   ]
  },
  {
   "cell_type": "markdown",
   "id": "9289dc18-8cad-4a43-97f8-3ffb80b0a68f",
   "metadata": {},
   "source": [
    "List comprehension can be used together with if condition as replacement of filter method. Map function has no such functionality. However, we can feed the map function output to the filter function. List comprehension returns a list, whereas the map function returns an object of Iterable."
   ]
  },
  {
   "cell_type": "markdown",
   "id": "bef73689-c4b5-46ec-8d9b-0861e9250ca8",
   "metadata": {},
   "source": [
    "4 Create a Python program that uses the `map()` function to convert a list of names to uppercase."
   ]
  },
  {
   "cell_type": "code",
   "execution_count": 3,
   "id": "e6d947db-0287-40f5-89bd-08bdbba15421",
   "metadata": {},
   "outputs": [
    {
     "data": {
      "text/plain": [
       "['MANGO', 'APPLE', 'ORANGE', 'GRAPES']"
      ]
     },
     "execution_count": 3,
     "metadata": {},
     "output_type": "execute_result"
    }
   ],
   "source": [
    "l = ['mango','apple','orange','grapes']\n",
    "list(map(lambda x : x.upper(),l))"
   ]
  },
  {
   "cell_type": "markdown",
   "id": "2acee920-d7fa-4cad-bcb8-ecf9fc12ba0a",
   "metadata": {},
   "source": [
    "5 Write a Python program that uses the `map()` function to calculate the length of each word in a list of strings."
   ]
  },
  {
   "cell_type": "code",
   "execution_count": 4,
   "id": "6f47354a-8aaf-457a-a06b-11f7ff1ff758",
   "metadata": {},
   "outputs": [
    {
     "data": {
      "text/plain": [
       "[18]"
      ]
     },
     "execution_count": 4,
     "metadata": {},
     "output_type": "execute_result"
    }
   ],
   "source": [
    "l =  ['my name is avichal']\n",
    "list(map(lambda x : len(x),l))"
   ]
  },
  {
   "cell_type": "markdown",
   "id": "44d1f373-e037-4ec1-884b-4aeaba90f5b1",
   "metadata": {},
   "source": [
    "8 Write a Python program that uses the `map()` function to round each element of a list of floating-point numbers to the nearest integer."
   ]
  },
  {
   "cell_type": "code",
   "execution_count": 6,
   "id": "5ee28014-163d-41f3-9622-1f32bf6979d3",
   "metadata": {},
   "outputs": [
    {
     "data": {
      "text/plain": [
       "[2, 6, 68, 33]"
      ]
     },
     "execution_count": 6,
     "metadata": {},
     "output_type": "execute_result"
    }
   ],
   "source": [
    "l = [2.4,5.6,67.5,33.3]\n",
    "list(map(lambda x : round(x),l))"
   ]
  },
  {
   "cell_type": "markdown",
   "id": "871d26c7-9387-4883-bfef-be9ae8400843",
   "metadata": {
    "jp-MarkdownHeadingCollapsed": true,
    "tags": []
   },
   "source": [
    "## Reduce :-\n",
    "\n",
    "\n",
    "1 What is the `reduce()` function in Python, and what module should you import to use it? Provide an example of its basic usage.\n",
    "2 Write a Python program that uses the `reduce()` function to find the product of all elements in a list.\n",
    "3 Create a Python program that uses `reduce()` to find the maximum element in a list of numbers.\n",
    "4 How can you use the `reduce()` function to concatenate a list of strings into a single string?\n",
    "5 Write a Python program that calculates the factorial of a number using the `reduce()` function.\n",
    "6 Create a Python program that uses `reduce()` to find the GCD (Greatest Common Divisor) of a list of numbers.\n",
    "7 Write a Python program that uses the `reduce()` function to find the sum of the digits of a given number.\n"
   ]
  },
  {
   "cell_type": "markdown",
   "id": "555e5f42-a335-49c5-a44a-d05931cbecd7",
   "metadata": {},
   "source": [
    "1 What is the `reduce()` function in Python, and what module should you import to use it? Provide an example of its basic usage."
   ]
  },
  {
   "cell_type": "markdown",
   "id": "2867adfc-b2b1-4f4d-8a9a-e09d31a5c59e",
   "metadata": {},
   "source": [
    "reduce() in Python. The reduce(fun,seq) function is used to apply a particular function passed in its argument to all of the list elements mentioned in the sequence passed along.This function is defined in “functools” module. Working : At first step, first two elements of sequence are picked and the result is obtained"
   ]
  },
  {
   "cell_type": "markdown",
   "id": "4d6142ac-5743-45e8-824e-35bc57921a4b",
   "metadata": {},
   "source": [
    "2 Write a Python program that uses the `reduce()` function to find the product of all elements in a list."
   ]
  },
  {
   "cell_type": "code",
   "execution_count": 9,
   "id": "86bc6d91-7245-418d-b0a7-642bc04fd1cd",
   "metadata": {},
   "outputs": [
    {
     "data": {
      "text/plain": [
       "206857728"
      ]
     },
     "execution_count": 9,
     "metadata": {},
     "output_type": "execute_result"
    }
   ],
   "source": [
    "l = [12,32,21,121,212]\n",
    "from functools import reduce\n",
    "reduce(lambda x,y : x*y,l )"
   ]
  },
  {
   "cell_type": "markdown",
   "id": "97191fe2-3b7d-42b7-85e2-18abf27ad82f",
   "metadata": {},
   "source": [
    "3 Create a Python program that uses `reduce()` to find the maximum element in a list of numbers"
   ]
  },
  {
   "cell_type": "code",
   "execution_count": 10,
   "id": "5b180ce4-7851-4979-ace7-9f8976b25b52",
   "metadata": {},
   "outputs": [
    {
     "data": {
      "text/plain": [
       "33435"
      ]
     },
     "execution_count": 10,
     "metadata": {},
     "output_type": "execute_result"
    }
   ],
   "source": [
    "l = [12,134,3,33435,652,32,435,44]\n",
    "reduce(lambda x,y : max(x,y),l)"
   ]
  },
  {
   "cell_type": "markdown",
   "id": "e078c251-f02d-4b8b-867f-58a3bc1daf2c",
   "metadata": {},
   "source": [
    "4 How can you use the `reduce()` function to concatenate a list of strings into a single string?"
   ]
  },
  {
   "cell_type": "markdown",
   "id": "86b3c833-ed4b-45bf-b222-6f48ce66a341",
   "metadata": {},
   "source": [
    "To use the reduce() function, we first need to import it from the functools module. Then, we define a function that takes two strings as arguments and concatenates them. The reduce() function applies this function cumulatively to the elements of the list, combining them into a single string."
   ]
  },
  {
   "cell_type": "markdown",
   "id": "2780183f-47c3-4fb5-a6fd-152db02a28c8",
   "metadata": {},
   "source": [
    "5  5 Write a Python program that calculates the factorial of a number using the `reduce()` function."
   ]
  },
  {
   "cell_type": "code",
   "execution_count": 18,
   "id": "2a22077e-4c0a-4be4-9013-577fd4ca6fc9",
   "metadata": {},
   "outputs": [
    {
     "name": "stdout",
     "output_type": "stream",
     "text": [
      "6\n"
     ]
    }
   ],
   "source": [
    "import functools\n",
    "\n",
    "def factorial(n):\n",
    "    if n == 0:\n",
    "        return 1\n",
    "    else:\n",
    "        return functools.reduce(lambda x,y: x*y, range(1,n+1))\n",
    "\n",
    "print (factorial (3))"
   ]
  },
  {
   "cell_type": "markdown",
   "id": "cd75a5b3-7179-4e0b-aa12-faf90e87679c",
   "metadata": {},
   "source": [
    " 6 Create a Python program that uses `reduce()` to find the GCD (Greatest Common Divisor) of a list of numbers."
   ]
  },
  {
   "cell_type": "code",
   "execution_count": 24,
   "id": "3bd6f02d-1390-4c51-9d0a-c346ff07850d",
   "metadata": {},
   "outputs": [],
   "source": [
    "import math\n",
    "a = [23,45]\n"
   ]
  },
  {
   "cell_type": "code",
   "execution_count": 26,
   "id": "0c0c45b0-554a-40dd-97a3-05c0e74a8a17",
   "metadata": {},
   "outputs": [
    {
     "data": {
      "text/plain": [
       "1"
      ]
     },
     "execution_count": 26,
     "metadata": {},
     "output_type": "execute_result"
    }
   ],
   "source": [
    "reduce(lambda z,y : math.gcd(z,y),a)"
   ]
  },
  {
   "cell_type": "markdown",
   "id": "ed521aec-fead-4cf7-bf75-4328e7dffe43",
   "metadata": {},
   "source": [
    "7 7 Write a Python program that uses the `reduce()` function to find the sum of the digits of a given number."
   ]
  },
  {
   "cell_type": "code",
   "execution_count": 28,
   "id": "a6cf2721-f2fb-4174-8bb1-35bda7e104c7",
   "metadata": {},
   "outputs": [
    {
     "data": {
      "text/plain": [
       "87"
      ]
     },
     "execution_count": 28,
     "metadata": {},
     "output_type": "execute_result"
    }
   ],
   "source": [
    "d = [21,32,1,21,12]\n",
    "reduce(lambda x,y : (x+y),d)"
   ]
  },
  {
   "cell_type": "code",
   "execution_count": null,
   "id": "03cd81c9-4795-4454-92c4-32669f34ac50",
   "metadata": {},
   "outputs": [],
   "source": []
  },
  {
   "cell_type": "markdown",
   "id": "64b5cb0e-5fca-4326-93c5-cc2b7dcff4e5",
   "metadata": {
    "jp-MarkdownHeadingCollapsed": true,
    "tags": []
   },
   "source": [
    "## Filter :-\n",
    "\n",
    "\n",
    "1 Explain the purpose of the `filter()` function in Python and provide an example of how it can be used to filter elements from an iterable.\n",
    "2 Write a Python program that uses the `filter()` function to select even numbers from a list of integers.\n",
    "3 Create a Python program that uses the `filter()` function to select names that start with a specific letter from a list of strings.\n",
    "4 Write a Python program that uses the `filter()` function to select prime numbers from a list of integers.\n",
    "5 How can you use the `filter()` function to remove None values from a list in Python?\n",
    "6 Create a Python program that uses `filter()` to select words longer than a certain length from a list of strings.\n",
    "7 Write a Python program that uses the `filter()` function to select elements greater than a specified threshold from a list of values.\n"
   ]
  },
  {
   "cell_type": "markdown",
   "id": "f65f6f35-098f-4a79-ac1b-912571ed0dce",
   "metadata": {},
   "source": [
    "1  Explain the purpose of the `filter()` function in Python and provide an example of how it can be used to filter elements from an iterable"
   ]
  },
  {
   "cell_type": "markdown",
   "id": "9492e0b2-114f-40ed-9fd0-0840526597ab",
   "metadata": {},
   "source": [
    "Filter() is a built-in function in Python. The filter function can be applied to an iterable such as a list or a dictionary and create a new iterator. This new iterator can filter out certain specific elements based on the condition that you provide very efficiently."
   ]
  },
  {
   "cell_type": "markdown",
   "id": "51fe83a6-ce2a-475f-9a7d-bd390104c435",
   "metadata": {},
   "source": [
    "2  Write a Python program that uses the `filter()` function to select even numbers from a list of integers."
   ]
  },
  {
   "cell_type": "code",
   "execution_count": 1,
   "id": "180d07d4-7488-4e14-a70d-234a2ebf27cf",
   "metadata": {},
   "outputs": [
    {
     "data": {
      "text/plain": [
       "[232, 2, 124, 46, 454, 56, 4]"
      ]
     },
     "execution_count": 1,
     "metadata": {},
     "output_type": "execute_result"
    }
   ],
   "source": [
    "l =[232,13,3,123,2,3,124,35,46,57,57,5545,454,56,4,23]\n",
    "list(filter(lambda x : x%2==0,l))"
   ]
  },
  {
   "cell_type": "markdown",
   "id": "7fa5f1b2-5ba8-4669-8926-a31a8608cad5",
   "metadata": {},
   "source": [
    "3  Create a Python program that uses the `filter()` function to select names that start with a specific letter from a list of strings."
   ]
  },
  {
   "cell_type": "code",
   "execution_count": 2,
   "id": "b399a641-739f-435c-8839-f87f18cae405",
   "metadata": {},
   "outputs": [
    {
     "data": {
      "text/plain": [
       "['avichal', 'avi']"
      ]
     },
     "execution_count": 2,
     "metadata": {},
     "output_type": "execute_result"
    }
   ],
   "source": [
    "l = ['avichal','avi','saxena','rohit']\n",
    "list(filter(lambda x : x.startswith('a'),l))"
   ]
  },
  {
   "cell_type": "markdown",
   "id": "8f7825a0-ffd0-4fcf-967b-b91a242c68fe",
   "metadata": {},
   "source": [
    "5 How can you use the `filter()` function to remove None values from a list in Python?"
   ]
  },
  {
   "cell_type": "markdown",
   "id": "85e6b02e-11a3-405d-a9a6-24afb0a3a112",
   "metadata": {},
   "source": [
    "The Python filter() function is the most concise and readable way to perform this particular task. It checks for any None value in list and removes them and form a filtered list without the None values."
   ]
  },
  {
   "cell_type": "markdown",
   "id": "d8afaaa2-c8ed-4ed1-9e94-4fbe474c1405",
   "metadata": {},
   "source": [
    "6 Create a Python program that uses `filter()` to select words longer than a certain length from a list of strings."
   ]
  },
  {
   "cell_type": "code",
   "execution_count": 32,
   "id": "20482f55-dee5-4cd9-ab5a-37deca13ca55",
   "metadata": {},
   "outputs": [
    {
     "data": {
      "text/plain": [
       "['avi']"
      ]
     },
     "execution_count": 32,
     "metadata": {},
     "output_type": "execute_result"
    }
   ],
   "source": [
    "s = ['avi','avichal','saxena','rohit']\n",
    "list(filter(lambda x : len(x)<5,s))"
   ]
  },
  {
   "cell_type": "markdown",
   "id": "b972b8fb-2b3c-4248-9f0f-452f20d7cad6",
   "metadata": {},
   "source": [
    "7  Write a Python program that uses the `filter()` function to select elements greater than a specified threshold from a list of values."
   ]
  },
  {
   "cell_type": "code",
   "execution_count": 34,
   "id": "d0187eb3-de84-44a2-bdc4-a698eaa6d026",
   "metadata": {},
   "outputs": [
    {
     "data": {
      "text/plain": [
       "[232, 46, 444]"
      ]
     },
     "execution_count": 34,
     "metadata": {},
     "output_type": "execute_result"
    }
   ],
   "source": [
    "l = [1,232,4,3,45,4,46,444,5]\n",
    "list(filter(lambda x : x>45 ,l))"
   ]
  },
  {
   "cell_type": "markdown",
   "id": "59ed5422-418e-4dbb-a117-199832eae825",
   "metadata": {
    "jp-MarkdownHeadingCollapsed": true,
    "tags": []
   },
   "source": [
    "## Basics of Functions:\n",
    "\n",
    "1 What is a function in Python, and why is it used?\n",
    "2 How do you define a function in Python? Provide an example.\n",
    "3 Explain the difference between a function definition and a function call.\n",
    "4 Write a Python program that defines a function to calculate the sum of two numbers and then calls the function.\n",
    "5 What is a function signature, and what information does it typically include?\n",
    "6 Create a Python function that takes two arguments and returns their product.\n"
   ]
  },
  {
   "cell_type": "markdown",
   "id": "19d6c697-5b27-4f17-9f2b-a15cae28f9d7",
   "metadata": {},
   "source": [
    "1 What is a function in Python, and why is it used?"
   ]
  },
  {
   "cell_type": "markdown",
   "id": "6262deb6-b501-4f81-a5b0-aca202d397c6",
   "metadata": {},
   "source": [
    "Functions in Python. You use functions in programming to bundle a set of instructions that you want to use repeatedly or that, because of their complexity, are better self-contained in a sub-program and called when needed. That means that a function is a piece of code written to carry out a specified task."
   ]
  },
  {
   "cell_type": "markdown",
   "id": "f623edc4-297e-432d-bc40-774d03004849",
   "metadata": {},
   "source": [
    "2 How do you define a function in Python? Provide an example."
   ]
  },
  {
   "cell_type": "code",
   "execution_count": 1,
   "id": "5515f2f3-3ada-4e82-8c01-2a7628425c9a",
   "metadata": {},
   "outputs": [],
   "source": [
    "def test():\n",
    "    pass"
   ]
  },
  {
   "cell_type": "markdown",
   "id": "bbe78ddc-d59b-4588-a0ff-20e6b4918169",
   "metadata": {},
   "source": [
    "3 Explain the difference between a function definition and a function call."
   ]
  },
  {
   "cell_type": "markdown",
   "id": "270a8ca3-069f-4d36-9a7e-024766408ca6",
   "metadata": {},
   "source": [
    "A function is a piece of code which enhanced the reusability and modularity of your program. It means that piece of code need not be written again. A function call means invoking or calling that function. Unless a function is called there is no use of that function"
   ]
  },
  {
   "cell_type": "markdown",
   "id": "81082549-f79e-40df-bb2d-aac71a37babf",
   "metadata": {},
   "source": [
    "4 Write a Python program that defines a function to calculate the sum of two numbers and then calls the function."
   ]
  },
  {
   "cell_type": "code",
   "execution_count": 2,
   "id": "ffbb4503-8fb1-455f-8b7f-8fdf794b2168",
   "metadata": {},
   "outputs": [],
   "source": [
    "def  sum_of_two_numbers(a,b):\n",
    "    return a+b"
   ]
  },
  {
   "cell_type": "code",
   "execution_count": 3,
   "id": "c4878aeb-3214-4cee-bf97-f1f17e243875",
   "metadata": {},
   "outputs": [
    {
     "data": {
      "text/plain": [
       "9"
      ]
     },
     "execution_count": 3,
     "metadata": {},
     "output_type": "execute_result"
    }
   ],
   "source": [
    "sum_of_two_numbers(2,7)"
   ]
  },
  {
   "cell_type": "markdown",
   "id": "691cbe36-ec78-4829-b342-a578462e8867",
   "metadata": {},
   "source": [
    "5 What is a function signature, and what information does it typically include?"
   ]
  },
  {
   "cell_type": "markdown",
   "id": "0c861895-d24d-413e-896a-63039ae58c72",
   "metadata": {},
   "source": [
    "the signature indicates the names and types of the input arguments, and (with type annotations) the type of the returned result(s) of a function or method.\n",
    "\n",
    "This is not particular to Python, though the concept is more central in some other languages (like C++, where the same method name can exist with multiple signatures, and the types of the input arguments determine which one will be called)."
   ]
  },
  {
   "cell_type": "markdown",
   "id": "8db49d06-4435-4fc0-b042-47835498bd26",
   "metadata": {},
   "source": [
    "6 Create a Python function that takes two arguments and returns their product."
   ]
  },
  {
   "cell_type": "code",
   "execution_count": 4,
   "id": "f4a03bab-d271-44f3-9ded-b88e14d28804",
   "metadata": {},
   "outputs": [],
   "source": [
    "def test(a,b):\n",
    "    return a*b"
   ]
  },
  {
   "cell_type": "code",
   "execution_count": 5,
   "id": "6e53cf12-7922-4dc2-a611-6fa6785102af",
   "metadata": {},
   "outputs": [
    {
     "data": {
      "text/plain": [
       "21"
      ]
     },
     "execution_count": 5,
     "metadata": {},
     "output_type": "execute_result"
    }
   ],
   "source": [
    "test(3,7)"
   ]
  },
  {
   "cell_type": "markdown",
   "id": "f88f5ccd-d03d-4d62-925a-6e19b8787d72",
   "metadata": {
    "jp-MarkdownHeadingCollapsed": true,
    "tags": []
   },
   "source": [
    "## Function Parameters and Arguments:\n",
    "\n",
    "1 Explain the concepts of formal parameters and actual arguments in Python functions.\n",
    "2 Write a Python program that defines a function with default argument values.\n",
    "3 How do you use keyword arguments in Python function calls? Provide an example.\n",
    "4 Create a Python function that accepts a variable number of arguments and calculates their sum.\n",
    "5 What is the purpose of the `*args` and `**kwargs` syntax in function parameter lists?\n"
   ]
  },
  {
   "cell_type": "markdown",
   "id": "c01da1ec-a2b2-4803-a40f-018d4a66bda5",
   "metadata": {},
   "source": [
    "1 Explain the concepts of formal parameters and actual arguments in Python functions."
   ]
  },
  {
   "cell_type": "markdown",
   "id": "73221cde-491a-443a-812d-dc524dbd6a78",
   "metadata": {},
   "source": [
    "Actual Parameters vary from Formal Parameters in that Actual Parameters are values supplied to the function when it is invoked, whereas Formal Parameters are variables declared by the function that get values when the function is called."
   ]
  },
  {
   "cell_type": "markdown",
   "id": "d5e55ce5-f846-473a-9d9f-12ef64c6822b",
   "metadata": {},
   "source": [
    "2 Write a Python program that defines a function with default argument values"
   ]
  },
  {
   "cell_type": "code",
   "execution_count": 6,
   "id": "7dda77ed-3ae6-48ce-91cb-a85da20fc162",
   "metadata": {},
   "outputs": [],
   "source": [
    "def test(n):\n",
    "    return n"
   ]
  },
  {
   "cell_type": "code",
   "execution_count": 9,
   "id": "9dcff006-79d2-489d-b55e-63d00cb03803",
   "metadata": {},
   "outputs": [
    {
     "data": {
      "text/plain": [
       "'avichal'"
      ]
     },
     "execution_count": 9,
     "metadata": {},
     "output_type": "execute_result"
    }
   ],
   "source": [
    "test('avichal')"
   ]
  },
  {
   "cell_type": "markdown",
   "id": "262750b8-dede-4116-8c19-39cdbfe131ef",
   "metadata": {},
   "source": [
    "3 How do you use keyword arguments in Python function calls? Provide an example."
   ]
  },
  {
   "cell_type": "code",
   "execution_count": 10,
   "id": "9adedb59-98dc-42b0-baf5-bbf50ab15f4e",
   "metadata": {},
   "outputs": [],
   "source": [
    "def test(a,b):\n",
    "    return a+b"
   ]
  },
  {
   "cell_type": "code",
   "execution_count": 11,
   "id": "aac6e1a5-73ed-4676-8871-fa71b553573c",
   "metadata": {},
   "outputs": [
    {
     "data": {
      "text/plain": [
       "80"
      ]
     },
     "execution_count": 11,
     "metadata": {},
     "output_type": "execute_result"
    }
   ],
   "source": [
    "test(a=20,b=60)"
   ]
  },
  {
   "cell_type": "markdown",
   "id": "3bef65cc-768a-448e-bb9b-940b24589178",
   "metadata": {},
   "source": [
    "4 Create a Python function that accepts a variable number of arguments and calculates their sum."
   ]
  },
  {
   "cell_type": "code",
   "execution_count": 24,
   "id": "17d50c7f-0016-4ffd-8033-b702e38c069d",
   "metadata": {},
   "outputs": [],
   "source": [
    "def test():\n",
    "    a,b=9,8\n",
    "    return a+b"
   ]
  },
  {
   "cell_type": "code",
   "execution_count": 25,
   "id": "b0aeabed-d6dc-4c9b-8025-e84830407496",
   "metadata": {},
   "outputs": [
    {
     "data": {
      "text/plain": [
       "17"
      ]
     },
     "execution_count": 25,
     "metadata": {},
     "output_type": "execute_result"
    }
   ],
   "source": [
    "test()"
   ]
  },
  {
   "cell_type": "markdown",
   "id": "1f685168-9842-4a70-8317-62646d3c0f32",
   "metadata": {},
   "source": [
    "5 What is the purpose of the `*args` and `**kwargs` syntax in function parameter lists?"
   ]
  },
  {
   "cell_type": "markdown",
   "id": "a856e0b6-f9f0-4a4b-a7f7-06b4ea2ff0fe",
   "metadata": {},
   "source": [
    "*args passes variable number of non-keyworded arguments and on which operation of the tuple can be performed. **kwargs passes variable number of keyword arguments dictionary to function on which operation of a dictionary can be performed."
   ]
  },
  {
   "cell_type": "markdown",
   "id": "e5ff5e1f-bb64-4cd2-b5be-050d54190211",
   "metadata": {
    "jp-MarkdownHeadingCollapsed": true,
    "tags": []
   },
   "source": [
    "## Lambda Functions and Higher-Order Functions:\n",
    "\n",
    "1 What are lambda functions in Python, and when are they typically used?\n",
    "2 Write a Python program that uses lambda functions to sort a list of tuples based on the second element.\n",
    "3 Explain the concept of higher-order functions in Python, and provide an example.\n",
    "4 Create a Python function that takes a list of numbers and a function as arguments, applying the function to each element in the list.\n"
   ]
  },
  {
   "cell_type": "markdown",
   "id": "827547b7-928d-4ff8-8282-3a88b4b20cfc",
   "metadata": {},
   "source": [
    "1 What are lambda functions in Python, and when are they typically used?"
   ]
  },
  {
   "cell_type": "markdown",
   "id": "a945d2a2-957d-4e5a-b8b1-3ad0c8ba3b64",
   "metadata": {},
   "source": [
    "Python Lambda Functions are anonymous function means that the function is without a name. As we already know that the def keyword is used to define a normal function in Python. Similarly, the lambda keyword is used to define an anonymous function in Python."
   ]
  },
  {
   "cell_type": "markdown",
   "id": "87f99493-ba81-4212-bc56-df059bf9ca34",
   "metadata": {},
   "source": [
    "2 Write a Python program that uses lambda functions to sort a list of tuples based on the second element."
   ]
  },
  {
   "cell_type": "code",
   "execution_count": 29,
   "id": "5fefcf26-3823-4e50-b642-db9248a2759b",
   "metadata": {},
   "outputs": [
    {
     "data": {
      "text/plain": [
       "[3, 3, 3, 12, 23, 23, 34, 34]"
      ]
     },
     "execution_count": 29,
     "metadata": {},
     "output_type": "execute_result"
    }
   ],
   "source": [
    "t = (12,3,3,23,34,23,34,3)\n",
    "l = lambda x : sorted(x)\n",
    "l(t)"
   ]
  },
  {
   "cell_type": "markdown",
   "id": "052d9111-b46c-458b-a325-aab57babb0e1",
   "metadata": {},
   "source": [
    "3 Explain the concept of higher-order functions in Python, and provide an example."
   ]
  },
  {
   "cell_type": "markdown",
   "id": "6069e3a8-a499-4f17-8299-9457d6ead50a",
   "metadata": {},
   "source": [
    "Higher-order functions are functions that take a function as a parameter and/or return a function as an output. A few useful higher-order functions are map() , filter() , and reduce() . map() and filter() are built-in functions, whereas reduce() is contained in functools() module."
   ]
  },
  {
   "cell_type": "markdown",
   "id": "5798a5e2-101b-44ea-9b0c-c4495ce0c57f",
   "metadata": {},
   "source": [
    "4 Create a Python function that takes a list of numbers and a function as arguments, applying the function to each element in the list."
   ]
  },
  {
   "cell_type": "code",
   "execution_count": 36,
   "id": "3a0fef0f-47af-4fed-9e7b-8f1cd943d8d0",
   "metadata": {},
   "outputs": [],
   "source": [
    "l = [1,23,2,243,43,5]\n",
    "def test(l):\n",
    "    return l*3"
   ]
  },
  {
   "cell_type": "code",
   "execution_count": 37,
   "id": "433832c2-685b-4f76-b63b-eebcd8d3f887",
   "metadata": {},
   "outputs": [
    {
     "data": {
      "text/plain": [
       "[1, 23, 2, 243, 43, 5, 1, 23, 2, 243, 43, 5, 1, 23, 2, 243, 43, 5]"
      ]
     },
     "execution_count": 37,
     "metadata": {},
     "output_type": "execute_result"
    }
   ],
   "source": [
    "test(l)"
   ]
  },
  {
   "cell_type": "markdown",
   "id": "847ca068-d49b-4f86-b631-4ddcd3213a28",
   "metadata": {
    "jp-MarkdownHeadingCollapsed": true,
    "tags": []
   },
   "source": [
    "## Built-in Functions:\n",
    "\n",
    "1 Describe the role of built-in functions like `len()`, `max()`, and `min()` in Python.\n",
    "2 Write a Python program that uses the `map()` function to apply a function to each element of a list.\n",
    "3 How does the `filter()` function work in Python, and when would you use it?\n",
    "4 Create a Python program that uses the `reduce()` function to find the product of all elements in a list.\n"
   ]
  },
  {
   "cell_type": "markdown",
   "id": "e72e0d4e-f9fb-44b3-b04c-242c04603260",
   "metadata": {},
   "source": [
    "1 Describe the role of built-in functions like `len()`, `max()`, and `min()` in Python."
   ]
  },
  {
   "cell_type": "markdown",
   "id": "bc81a4e6-438c-4939-afb2-8fa066e3bea8",
   "metadata": {},
   "source": [
    "Use of min() and max() in Python\n",
    "These functions are used to compute the maximum and minimum of the values as passed in its argument. or it gives the lexicographically largest value and lexicographically smallest value respectively, when we passed string or list of strings as arguments"
   ]
  },
  {
   "cell_type": "markdown",
   "id": "3421983a-86bd-4d9f-80c4-992c48414921",
   "metadata": {},
   "source": [
    "2 Write a Python program that uses the `map()` function to apply a function to each element of a list."
   ]
  },
  {
   "cell_type": "code",
   "execution_count": 39,
   "id": "6a3c44e6-0e10-40b2-8895-76616e4afc30",
   "metadata": {},
   "outputs": [
    {
     "data": {
      "text/plain": [
       "[3, 4, 5, 6, 7, 7]"
      ]
     },
     "execution_count": 39,
     "metadata": {},
     "output_type": "execute_result"
    }
   ],
   "source": [
    "l = [1,2,3,4,5,5]\n",
    "list(map(lambda x : x+2,l))"
   ]
  },
  {
   "cell_type": "markdown",
   "id": "32a24270-13cf-4565-afcf-1afdc3bf6a15",
   "metadata": {},
   "source": [
    "3 How does the `filter()` function work in Python, and when would you use it?"
   ]
  },
  {
   "cell_type": "markdown",
   "id": "f3dd5b02-eb6f-4170-aa4e-00aff7c87071",
   "metadata": {},
   "source": [
    "The Syntax For Filter in Python\n",
    "Function - It works on each element of the iterable and tests whether the returned value is true or false. The output sequence will contain all those elements of the iterable for which the function has returned True. It can also be mentioned as None"
   ]
  },
  {
   "cell_type": "markdown",
   "id": "133f6cce-18e7-44d1-9d52-a2a8609bef60",
   "metadata": {},
   "source": [
    "4 Create a Python program that uses the `reduce()` function to find the product of all elements in a list."
   ]
  },
  {
   "cell_type": "code",
   "execution_count": 42,
   "id": "34939c33-d345-432c-b218-7f5cf0eb23d2",
   "metadata": {},
   "outputs": [
    {
     "data": {
      "text/plain": [
       "32640"
      ]
     },
     "execution_count": 42,
     "metadata": {},
     "output_type": "execute_result"
    }
   ],
   "source": [
    "l = [1,2,32,34,3,5]\n",
    "from functools import reduce\n",
    "reduce(lambda x,y : x*y,l)"
   ]
  },
  {
   "cell_type": "markdown",
   "id": "df889084-e6bb-43ee-bf00-2ad8229ec27f",
   "metadata": {
    "jp-MarkdownHeadingCollapsed": true,
    "tags": []
   },
   "source": [
    "## Function Documentation and Best Practices:\n",
    "\n",
    "1 Explain the purpose of docstrings in Python functions and how to write them.\n",
    "2 Describe some best practices for naming functions and variables in Python, including naming conventions and guidelines.\n",
    "\n"
   ]
  },
  {
   "cell_type": "markdown",
   "id": "d8608303-9234-4182-897f-55538cddce17",
   "metadata": {},
   "source": [
    "1 Explain the purpose of docstrings in Python functions and how to write them."
   ]
  },
  {
   "cell_type": "markdown",
   "id": "36b1e27c-b54a-43e6-a09f-8ebb1d4b80f7",
   "metadata": {},
   "source": [
    "Python documentation strings (or docstrings) provide a convenient way of associating documentation with Python modules, functions, classes, and methods. It’s specified in source code that is used, like a comment, to document a specific segment of code. Unlike conventional source code comments, the docstring should describe what the function does, not how.\n",
    "\n",
    "Declaring Docstrings: The docstrings are declared using ”’triple single quotes”’ or “”” triple double quotes “”” just below the class, method, or function declaration. All functions should have a docstring.\n",
    "Accessing Docstrings: The docstrings can be accessed using the __doc__ method of the object or using the help function. The below examples demonstrate how to declare and access a docstring."
   ]
  },
  {
   "cell_type": "markdown",
   "id": "12808e74-8c2c-4278-90b0-82bb155db0c4",
   "metadata": {},
   "source": [
    "2 Describe some best practices for naming functions and variables in Python, including naming conventions and guidelines.\n"
   ]
  },
  {
   "cell_type": "markdown",
   "id": "db3849bb-224a-4ed7-b4d7-8dbf3ee2543d",
   "metadata": {},
   "source": [
    "1. Use descriptive and meaningful names\n",
    "Variable names should be descriptive and meaningful. They should describe what the variable represents or contains. For example, if you are writing a program that calculates the area of a circle, you might name your variable \"radius\" or \"area\". Avoid using generic or meaningless names such as \"x\" or \"temp\".\n",
    "\n",
    "2. Follow a consistent naming convention\n",
    "It's important to follow a consistent naming convention to make your code more readable and understandable. There are several naming conventions that you can follow, but the most common ones are:\n",
    "\n",
    "CamelCase: This convention capitalizes the first letter of each word except for the first word. For example, \"firstName\" or \"lastName\".\n",
    "snake_case: This convention uses underscores to separate words. For example, \"first_name\" or \"last_name\".\n",
    "Choose a naming convention and stick to it throughout your code.\n",
    "\n",
    "3. Avoid reserved keywords\n",
    "Avoid using reserved keywords as variable names. Python has several reserved keywords that have special meanings in the language. Using reserved keywords as variable names can cause syntax errors and make your code hard to read. Some examples of reserved keywords are \"if\", \"while\", \"for\", and \"print\".\n",
    "\n",
    "4. Don't use abbreviations\n",
    "Avoid using abbreviations in your variable names. Abbreviations can be confusing and may not be understandable to other developers. Instead, use full and descriptive names.\n",
    "\n",
    "5. Be mindful of variable scope\n",
    "Be mindful of the scope of your variables. Variables should be defined in the smallest possible scope to avoid naming conflicts and improve readability. For example, if you have a function that uses a variable, define that variable inside the function instead of at the global level."
   ]
  },
  {
   "cell_type": "code",
   "execution_count": null,
   "id": "3c1aaffc-cfa7-47bb-80fc-5939124f3922",
   "metadata": {},
   "outputs": [],
   "source": []
  }
 ],
 "metadata": {
  "kernelspec": {
   "display_name": "Python 3 (ipykernel)",
   "language": "python",
   "name": "python3"
  },
  "language_info": {
   "codemirror_mode": {
    "name": "ipython",
    "version": 3
   },
   "file_extension": ".py",
   "mimetype": "text/x-python",
   "name": "python",
   "nbconvert_exporter": "python",
   "pygments_lexer": "ipython3",
   "version": "3.10.8"
  }
 },
 "nbformat": 4,
 "nbformat_minor": 5
}
